{
 "cells": [
  {
   "cell_type": "code",
   "execution_count": 1,
   "metadata": {},
   "outputs": [],
   "source": [
    "import numpy as np\n"
   ]
  },
  {
   "cell_type": "code",
   "execution_count": null,
   "metadata": {},
   "outputs": [],
   "source": [
    "def Init_Centroids(X, K):\n",
    "    m, n = X.shape\n",
    "    \n",
    "    # You should return this values correctly\n",
    "\n",
    "    Centroids = np.zeros((K, n))\n",
    "\n",
    "    randidx = np.random.permutation(X.shape[0])\n",
    "    # Take the first K examples as centroids\n",
    "    Centroids = X[randidx[:K], :]\n",
    "    \n",
    "    return Centroids"
   ]
  },
  {
   "cell_type": "code",
   "execution_count": null,
   "metadata": {},
   "outputs": [],
   "source": [
    "def Calculate_Distance(P,Q):\n",
    "    '''\n",
    "    Parameters:\n",
    "                P and Q are two points each one of them contains 2 variables Ex. P[0] = Length, P[1] Width, of point P\n",
    "    \n",
    "    Return:\n",
    "                Calculated Euclidean Distance using the illustrated formula \n",
    "    '''\n",
    "    Distance = 0\n",
    "    \n",
    "    # ====================== YOUR CODE HERE ======================\n",
    "    Distance = np.sqrt((P[0]-Q[0])**2+(P[1]-Q[1])**2)\n",
    "    # =============================================================\n",
    "    return Distance"
   ]
  },
  {
   "cell_type": "code",
   "execution_count": null,
   "metadata": {},
   "outputs": [],
   "source": [
    "def AssignItemCentroid(X, Centroids):\n",
    "    '''\n",
    "    Parameters :\n",
    "                  X ->  Training Examples array of shape (m,n) = (3000,2)\n",
    "                  Centroids -> Value of Each Centroid (K, n) = (3,2)\n",
    "    Return : \n",
    "                  ExamplesCentroids -> List of the number of cluster that corresponds to the training example \n",
    "                                        (Ex.)  the Centroid which is closest to 5th point in the training data\n",
    "                                        is the centroid number 3 (Cluster 3) then ExamplesCentroids[5] = 3\n",
    "    Instructions:\n",
    "                  - Go over every example\n",
    "                  - find its closest centroid, and store\n",
    "                  the index inside `ExamplesCentroids` at the appropriate location.\n",
    "\n",
    "                  ExamplesCentroids[i] should contain the index of the centroid\n",
    "                  closest to example i. then, it should be a value in the \n",
    "                  range [0,K-1]\n",
    "    '''\n",
    "\n",
    "    ExamplesCentroids = np.zeros(X.shape[0], dtype=int)\n",
    "    # ====================== YOUR CODE HERE ======================\n",
    "    d=[[]]\n",
    "    for i in range(len(X)):\n",
    "        for j in range(3):\n",
    "           d[i][j]=Calculate_Distance(Centroids[i],i)\n",
    "\n",
    "\n",
    "    \n",
    "\n",
    "    # =============================================================\n",
    "    return ExamplesCentroids"
   ]
  }
 ],
 "metadata": {
  "interpreter": {
   "hash": "b3ba2566441a7c06988d0923437866b63cedc61552a5af99d1f4fb67d367b25f"
  },
  "kernelspec": {
   "display_name": "Python 3.9.7 ('base')",
   "language": "python",
   "name": "python3"
  },
  "language_info": {
   "codemirror_mode": {
    "name": "ipython",
    "version": 3
   },
   "file_extension": ".py",
   "mimetype": "text/x-python",
   "name": "python",
   "nbconvert_exporter": "python",
   "pygments_lexer": "ipython3",
   "version": "3.9.7"
  },
  "orig_nbformat": 4
 },
 "nbformat": 4,
 "nbformat_minor": 2
}
